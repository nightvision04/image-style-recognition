{
 "cells": [
  {
   "cell_type": "code",
   "execution_count": 3,
   "metadata": {},
   "outputs": [],
   "source": [
    "import requests\n",
    "import json\n",
    "import urllib\n",
    "import time\n",
    "import os\n",
    "\n",
    "#api.media_search(q, count, lat, lng, min_timestamp, max_timestamp)"
   ]
  },
  {
   "cell_type": "code",
   "execution_count": 16,
   "metadata": {},
   "outputs": [],
   "source": [
    "\n",
    "from instagram.client import InstagramAPI\n",
    "\n",
    "YOUR_CLIENT_ID= '97b03965a0cd46bca0f579e53ab8f642'\n",
    "YOUR_CLIENT_SECRET = 'fe115ade979446299e05ca17d636da3a'\n",
    "access_token='3590618.97b0396.a1d0f1e9110b473db0ea47ae163e1893'"
   ]
  },
  {
   "cell_type": "code",
   "execution_count": null,
   "metadata": {},
   "outputs": [],
   "source": []
  },
  {
   "cell_type": "code",
   "execution_count": null,
   "metadata": {},
   "outputs": [],
   "source": [
    "api.media_search(q, count, lat, lng, min_timestamp, max_timestamp)"
   ]
  },
  {
   "cell_type": "code",
   "execution_count": 47,
   "metadata": {},
   "outputs": [
    {
     "name": "stdout",
     "output_type": "stream",
     "text": [
      "<Response [200]>\n"
     ]
    }
   ],
   "source": [
    "url = 'https://api.instagram.com/v1/users/self/media/search/?access_token='+access_token\n",
    "\n",
    "url = 'https://api.instagram.com/v1/users/lookslikefilm/search/?access_token='+access_token\n",
    "\n",
    "url = 'https://api.instagram.com/v1/tags/hello/media/recent?access_token='+access_token+'&callback=http://localhost'\n",
    "url = 'https://api.instagram.com/v1/tags/hello/media/recent?access_token='+access_token\n",
    "url = 'https://api.instagram.com/v1/tags/hello/media/recent?access_token='+access_token+'&max_tag_id=1378677250000000&min_tag_id=1375998850000000'\n",
    "\n",
    "url = 'https://api.instagram.com/v1/users/self/media/recent?access_token='+access_token\n",
    "payload = {}\n",
    "\n",
    "response = requests.request('GET', url, data = payload, allow_redirects=False, timeout=7200)\n",
    "\n",
    "print(response)\n",
    "#print(response.json()['data'][0])"
   ]
  },
  {
   "cell_type": "code",
   "execution_count": 45,
   "metadata": {},
   "outputs": [
    {
     "name": "stdout",
     "output_type": "stream",
     "text": [
      "'data'\n",
      "'data'\n",
      "'data'\n",
      "'data'\n",
      "'data'\n",
      "'data'\n",
      "'data'\n",
      "'data'\n",
      "'data'\n",
      "'data'\n",
      "'data'\n",
      "'data'\n",
      "'data'\n",
      "'data'\n",
      "'data'\n",
      "'data'\n",
      "'data'\n",
      "'data'\n",
      "'data'\n",
      "'data'\n"
     ]
    }
   ],
   "source": [
    "\n",
    "\n",
    "\n",
    "for j in range(20):\n",
    "\n",
    "    try:\n",
    "        if response.json()['data'][j]['images'][0]['type'] == 'image/jpeg':\n",
    "            #Do something\n",
    "\n",
    "            url = response.json()['data'][j]['images'][0]['link']\n",
    "            id = response.json()['data'][j]['images'][0]['link'].split('https://i.imgur.com/')[1].split('.jpg')[0]\n",
    "            width = response.json()['data'][j]['cover_width']\n",
    "            height = response.json()['data'][j]['cover_height']\n",
    "\n",
    "            img = Image(id,height,width,url,url)\n",
    "            img.store_meta(response.json()['data'][j])\n",
    "            img.download()\n",
    "\n",
    "\n",
    "    except Exception as e:\n",
    "        print(e)\n"
   ]
  },
  {
   "cell_type": "code",
   "execution_count": null,
   "metadata": {},
   "outputs": [],
   "source": []
  }
 ],
 "metadata": {
  "kernelspec": {
   "display_name": "Python 3",
   "language": "python",
   "name": "python3"
  },
  "language_info": {
   "codemirror_mode": {
    "name": "ipython",
    "version": 3
   },
   "file_extension": ".py",
   "mimetype": "text/x-python",
   "name": "python",
   "nbconvert_exporter": "python",
   "pygments_lexer": "ipython3",
   "version": "3.6.5"
  }
 },
 "nbformat": 4,
 "nbformat_minor": 2
}
